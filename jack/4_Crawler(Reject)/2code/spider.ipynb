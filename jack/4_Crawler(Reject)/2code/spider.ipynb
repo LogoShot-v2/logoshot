{
 "cells": [
  {
   "cell_type": "code",
   "execution_count": 1,
   "metadata": {},
   "outputs": [],
   "source": [
    "import pandas as pd\n",
    "import time\n",
    "from selenium import webdriver\n",
    "import csv\n",
    "import requests\n",
    "from http_request_randomizer.requests.proxy.requestProxy import RequestProxy\n",
    "import threading\n",
    "import math\n",
    "import numpy as np\n",
    "import os"
   ]
  },
  {
   "cell_type": "code",
   "execution_count": 6,
   "metadata": {},
   "outputs": [],
   "source": [
    "if \"key.csv\" not in os.listdir():\n",
    "    with open('./key.csv','w', newline='') as fd:\n",
    "        writer = csv.writer(fd)\n",
    "        writer.writerow([\"caseno\", \"Key1\",\"Key2\"])\n",
    "duration = 9000 # 要讓程式跑多久(秒)"
   ]
  },
  {
   "cell_type": "code",
   "execution_count": 2,
   "metadata": {},
   "outputs": [],
   "source": [
    "duration = 300 # 要讓程式跑多久(秒)"
   ]
  },
  {
   "cell_type": "code",
   "execution_count": 2,
   "metadata": {
    "scrolled": false
   },
   "outputs": [
    {
     "name": "stdout",
     "output_type": "stream",
     "text": [
      "todo_df           caseno\n",
      "0       89003693\n",
      "1       89702625\n",
      "2       89704172\n",
      "3       89704174\n",
      "4       89704175\n",
      "...          ...\n",
      "80601  109880763\n",
      "80602  109880770\n",
      "80603  109880791\n",
      "80604  110880019\n",
      "80605  110880067\n",
      "\n",
      "[80606 rows x 1 columns]\n",
      "key_df           caseno                                       Key1  \\\n",
      "0       89702625  XpJ13RyT4TGZFVnl2bVFvSWVSeDhldmVtT1F3QT09   \n",
      "1       92054897  XpJ13RyT4QXJzM2JyY0NSV09SeDhldmVtT1F3QT09   \n",
      "2       89704174  XpJ13RyT4NERudmVETDJaK2lSeDhldmVtT1F3QT09   \n",
      "3       89704176  XpJ13RyT4QStWKzNuK2pRWFdSeDhldmVtT1F3QT09   \n",
      "4       89704175  XpJ13RyT4NE9uVkdQNC8rZnlSeDhldmVtT1F3QT09   \n",
      "...          ...                                        ...   \n",
      "80592  108055700  XpJ13RyT4Y0NnNHBQUWRoQktSeDhldmVtT1F3QT09   \n",
      "80593  108055701  XpJ13RyT4RVNmd0oyTE50Yk9SeDhldmVtT1F3QT09   \n",
      "80594  108055717  XpJ13RyT4bFhhb0FJTG1JUnlSeDhldmVtT1F3QT09   \n",
      "80595  108062740  XpJ13RyT4U0FJZG1lYkRuemFSeDhldmVtT1F3QT09   \n",
      "80596  110880067  XpJ13RyT4eGs2NHRuNmt2R0NSeDhldmVtT1F3QT09   \n",
      "\n",
      "                                            Key2  Unnamed: 3  Unnamed: 4  \n",
      "0      XpJ13RyT4U0FYbTBMcXhpV2RYREgxVVkraE9kdz09         NaN         NaN  \n",
      "1      XpJ13RyT4Z0tNaGFGSEJSTEhTQUZwdzFoYnRxUT09         NaN         NaN  \n",
      "2      XpJ13RyT4bm9UT212d1V3Y0JlTDZiZDM0RVM1QT09         NaN         NaN  \n",
      "3      XpJ13RyT4bm9UT212d1V3Y0RHU0VlelRoYnF1UT09         NaN         NaN  \n",
      "4      XpJ13RyT4bm9UT212d1V3Y0JYREgxVVkraE9kdz09         NaN         NaN  \n",
      "...                                          ...         ...         ...  \n",
      "80592  XpJ13RyT4d1dQbkswdU9LZUxUblRXelNTeHowdz09         NaN         NaN  \n",
      "80593  XpJ13RyT4d1dQbkswdU9LZUxRVkI4WnNxd2FEUT09         NaN         NaN  \n",
      "80594  XpJ13RyT4M215QzdzMzBQMVBTQUZwdzFoYnRxUT09         NaN         NaN  \n",
      "80595  XpJ13RyT4S3ZXN2czWEJCRTdUblRXelNTeHowdz09         NaN         NaN  \n",
      "80596  XpJ13RyT4dzE5YVpJczloZFRTQUZwdzFoYnRxUT09         NaN         NaN  \n",
      "\n",
      "[80597 rows x 5 columns]\n",
      "df           caseno Key1 Key2  Unnamed: 3  Unnamed: 4     _merge\n",
      "20      94041512  NaN  NaN         NaN         NaN  left_only\n",
      "21      94041514  NaN  NaN         NaN         NaN  left_only\n",
      "185     98013663  NaN  NaN         NaN         NaN  left_only\n",
      "12441  100066613  NaN  NaN         NaN         NaN  left_only\n",
      "12945  101002304  NaN  NaN         NaN         NaN  left_only\n",
      "12946  101002305  NaN  NaN         NaN         NaN  left_only\n",
      "18009  101051245  NaN  NaN         NaN         NaN  left_only\n",
      "27740  102072091  NaN  NaN         NaN         NaN  left_only\n",
      "28843  103009479  NaN  NaN         NaN         NaN  left_only\n"
     ]
    }
   ],
   "source": [
    "# 分工\n",
    "Maggie = (0, 80606)\n",
    "job_range = Maggie\n",
    "\n",
    "todo_df = pd.read_csv('todo.csv').iloc[job_range[0]:job_range[1], :]\n",
    "key_df = pd.read_csv('key.csv')\n",
    "# 從還沒完成的部分繼續爬\n",
    "df = pd.merge(todo_df,key_df,on=['caseno'],how=\"outer\",indicator=True)\n",
    "df = df[df['_merge']=='left_only']\n",
    "print(\"todo_df\",todo_df)\n",
    "print(\"key_df\",key_df)\n",
    "print(\"df\",df)\n",
    "df.to_csv(\"now.csv\")"
   ]
  },
  {
   "cell_type": "code",
   "execution_count": 4,
   "metadata": {},
   "outputs": [
    {
     "name": "stdout",
     "output_type": "stream",
     "text": [
      "Starting Thread-1\n",
      "Thread-1 (0, 8)\n",
      "Starting Thread-2\n",
      "Thread-2 (8, 16)\n",
      "Starting Thread-3\n",
      "Thread-3 (16, 24)\n",
      "Starting Thread-4\n",
      "Thread-4 (24, 32)\n",
      "Starting Thread-5\n",
      "Thread-5 (40, 44)\n"
     ]
    },
    {
     "name": "stderr",
     "output_type": "stream",
     "text": [
      "C:\\Users\\User\\anaconda3\\lib\\site-packages\\ipykernel_launcher.py:20: DeprecationWarning: use options instead of chrome_options\n"
     ]
    },
    {
     "name": "stdout",
     "output_type": "stream",
     "text": [
      "start 1620027856.080936\n",
      "Thread-3 Progress: 0/8, Fail number: 0\n",
      "start 1620027856.8030736\n",
      "Thread-1 Progress: 0/8, Fail number: 0\n",
      "start 1620027856.837721\n",
      "Thread-2 Progress: 0/8, Fail number: 0\n",
      "start 1620027856.8607426\n",
      "Thread-5 Progress: 0/4, Fail number: 0\n",
      "start 1620027856.9340854\n",
      "Thread-4 Progress: 0/8, Fail number: 0\n",
      "Exiting Thread-5\n",
      "Exiting Thread-4\n",
      "Exiting Thread-1\n",
      "Exiting Thread-2\n",
      "Exiting Thread-3\n",
      "Exiting the main\n"
     ]
    }
   ],
   "source": [
    "class myThread(threading.Thread): #继承threading.Thread类\n",
    "    def __init__(self,name,link_range):\n",
    "        threading.Thread.__init__(self)\n",
    "        self.name = name\n",
    "        self.link_range = link_range\n",
    "    def run(self):  #重写成员方法\n",
    "        print (\"Starting \" + self.name)\n",
    "        crawler(self.name, self.link_range)\n",
    "        print (\"Exiting \" + self.name)\n",
    "\n",
    "def crawler(threadName, link_range):\n",
    "    CaseNos = now_df['caseno'].tolist()[link_range[0]: link_range[1]]\n",
    "    print(threadName, link_range)\n",
    "    fail_num = 0\n",
    "    failcnt = 0\n",
    "    \n",
    "    option = webdriver.ChromeOptions()\n",
    "    #option.add_argument('--headless')\n",
    "    option.add_argument(\"--incogniton\")   \n",
    "    driver = webdriver.Chrome(chrome_options=option,executable_path='./chromedriver')\n",
    "    \n",
    "    #driver = webdriver.Chrome('./chromedriver')    \n",
    "    start = time.time()\n",
    "    print(\"start\",start) \n",
    "    for i in range(0, len(CaseNos),10):\n",
    "        print(\"{} Progress: {}/{}, Fail number: {}\".format(threadName, i, len(CaseNos), fail_num))\n",
    "        try:  \n",
    "            driver.get(\"https://twtmsearch.tipo.gov.tw/OS0/OS0201.jsp?l6=zh_TW&isReadBulletinen_US=&isReadBulletinzh_TW=true\")\n",
    "            time.sleep(5+2*2)\n",
    "            element = driver.find_element_by_id('applNo')\n",
    "            #print(\"CaseNos\",str(CaseNos[i]))\n",
    "            element.send_keys(str(CaseNos[i]))\n",
    "            for j in range(9):\n",
    "                button = driver.find_element_by_xpath(\"//*[@id='form1']/fieldset/div[4]/div/table/tbody/tr/td[2]/img\")\n",
    "                button.click()\n",
    "                time.sleep(0.005)\n",
    "                temp = ('applNo'+\"%s\" % int(j+1))\n",
    "                element = driver.find_element_by_id(temp)\n",
    "                #print(\"CaseNos\",str(CaseNos[i+j+1]))\n",
    "                element.send_keys(str(CaseNos[i+j+1]))\n",
    "            button = driver.find_element_by_id(\"querySubmit\")\n",
    "            button.click()\n",
    "            time.sleep(2.5+2.5*2)\n",
    "\n",
    "            alist_key1 = []\n",
    "            alist_key2 = []\n",
    "            blist = []\n",
    "            for link in driver.find_elements_by_xpath(\"//*[@id='APPL_NO']/a\"):\n",
    "                #print(\"link\",link.text)\n",
    "                key1 = link.get_attribute('href')[29:70]\n",
    "                key2 = link.get_attribute('href')[76:117]\n",
    "                \n",
    "                alist_key1.append(key1)\n",
    "                alist_key2.append(key2)\n",
    "                \n",
    "                blist.append(link.text)\n",
    "            failcnt = 0\n",
    "        except:\n",
    "            fail_num += 10\n",
    "            failcnt += 1\n",
    "            if failcnt == 10:\n",
    "                break\n",
    "            continue\n",
    "        \n",
    "        if(len(alist_key1) == len(alist_key2)):\n",
    "            with open('./key.csv'.format(threadName),'a', newline='') as fd:\n",
    "                writer = csv.writer(fd)\n",
    "                for k in range(len(blist)):\n",
    "                    writer.writerow([blist[k],alist_key1[k],alist_key2[k]])\n",
    "        else:\n",
    "            fail_num += 10\n",
    "           \n",
    "            failcnt += 1\n",
    "            if failcnt == 10:\n",
    "                break\n",
    "            #continue\n",
    "\n",
    "        end = time.time() \n",
    "        #print(\"end\",end)   \n",
    "        if(int(end-start) > duration):\n",
    "            print(\"总体运行时间：\",end-start)\n",
    "            break\n",
    "\n",
    "now_df = pd.read_csv('now.csv')\n",
    "sep = len(now_df)//5\n",
    "link_range=[(0,sep),(sep,sep*2),(sep*2,sep*3),(sep*3,sep*4),(sep*5,len(now_df))]  #建立5个线程异步\n",
    "thread_list=[]\n",
    "\n",
    "#创立新线程\n",
    "for i in range(1,6): #Thread1-5\n",
    "    thread=myThread('Thread-'+str(i),link_range[i-1])\n",
    "    thread.start() #线程开始执行\n",
    "    thread_list.append(thread)\n",
    "\n",
    "#等待所有线程完成\n",
    "for t in thread_list:\n",
    "    t.join()\n",
    "\n",
    "end=time.time()\n",
    "print(\"Exiting the main\")"
   ]
  },
  {
   "cell_type": "code",
   "execution_count": 39,
   "metadata": {},
   "outputs": [],
   "source": [
    "def crawlerz(CaseNos):   \n",
    "    \n",
    "    option = webdriver.ChromeOptions()\n",
    "    #option.add_argument('--headless')\n",
    "    option.add_argument(\"--incogniton\")   \n",
    "    driver = webdriver.Chrome(chrome_options=option,executable_path='./chromedriver')\n",
    "    \n",
    "    for i in range(0, len(CaseNos),10):\n",
    "            \n",
    "        try:  \n",
    "            driver.get(\"https://twtmsearch.tipo.gov.tw/OS0/OS0201.jsp?l6=zh_TW&isReadBulletinen_US=&isReadBulletinzh_TW=true\")\n",
    "            time.sleep(5)\n",
    "            element = driver.find_element_by_id('applNo')\n",
    "            #print(\"CaseNos\",str(CaseNos[i]))\n",
    "            element.send_keys(str(CaseNos[i]))\n",
    "            for j in range(9):\n",
    "                button = driver.find_element_by_xpath(\"//*[@id='form1']/fieldset/div[4]/div/table/tbody/tr/td[2]/img\")\n",
    "                button.click()\n",
    "                time.sleep(0.005)\n",
    "                temp = ('applNo'+\"%s\" % int(j+1))\n",
    "                element = driver.find_element_by_id(temp)\n",
    "                #print(\"CaseNos\",str(CaseNos[i+j+1]))\n",
    "                element.send_keys(str(CaseNos[i+j+1]))\n",
    "            button = driver.find_element_by_id(\"querySubmit\")\n",
    "            button.click()\n",
    "            time.sleep(2.5)\n",
    "\n",
    "            alist_key1 = []\n",
    "            alist_key2 = []\n",
    "            blist = []\n",
    "            for link in driver.find_elements_by_xpath(\"//*[@id='APPL_NO']/a\"):\n",
    "                #print(\"link\",link.text)\n",
    "                key1 = link.get_attribute('href')[29:70]\n",
    "                key2 = link.get_attribute('href')[76:117]\n",
    "\n",
    "                alist_key1.append(key1)\n",
    "                alist_key2.append(key2)\n",
    "\n",
    "                blist.append(link.text)\n",
    "                \n",
    "            with open('left.csv','a' ,newline='') as fd:\n",
    "                writer = csv.writer(fd)\n",
    "                for k in range(len(blist)):\n",
    "                    writer.writerow([blist[k],alist_key1[k],alist_key2[k]])\n",
    "        except:\n",
    "            print(\"Failed\")\n",
    "\n",
    "        print(alist_key1)\n",
    "        print(alist_key2)\n",
    "        print(blist)\n",
    "\n",
    "\n"
   ]
  },
  {
   "cell_type": "code",
   "execution_count": 44,
   "metadata": {},
   "outputs": [
    {
     "name": "stderr",
     "output_type": "stream",
     "text": [
      "C:\\Users\\User\\anaconda3\\lib\\site-packages\\ipykernel_launcher.py:6: DeprecationWarning: use options instead of chrome_options\n",
      "  \n"
     ]
    },
    {
     "name": "stdout",
     "output_type": "stream",
     "text": [
      "Failed\n",
      "[]\n",
      "[]\n",
      "[]\n",
      "Failed\n",
      "[]\n",
      "[]\n",
      "[]\n"
     ]
    }
   ],
   "source": [
    "crawlerz(x)"
   ]
  },
  {
   "cell_type": "code",
   "execution_count": 43,
   "metadata": {},
   "outputs": [
    {
     "name": "stdout",
     "output_type": "stream",
     "text": [
      "['94041512', '94041514', '98013663', '100066613', '101002304', '101002305', '101051245', '102072091', '103009479', '94041512', '94041514', '98013663', '100066613', '101002304', '101002305', '101051245', '102072091', '103009479']\n"
     ]
    }
   ],
   "source": [
    "with open('left.txt') as f:\n",
    "    z = f.read()\n",
    "    x = z.split()\n",
    "    print(x)"
   ]
  },
  {
   "cell_type": "code",
   "execution_count": 3,
   "metadata": {},
   "outputs": [
    {
     "data": {
      "text/html": [
       "<div>\n",
       "<style scoped>\n",
       "    .dataframe tbody tr th:only-of-type {\n",
       "        vertical-align: middle;\n",
       "    }\n",
       "\n",
       "    .dataframe tbody tr th {\n",
       "        vertical-align: top;\n",
       "    }\n",
       "\n",
       "    .dataframe thead th {\n",
       "        text-align: right;\n",
       "    }\n",
       "</style>\n",
       "<table border=\"1\" class=\"dataframe\">\n",
       "  <thead>\n",
       "    <tr style=\"text-align: right;\">\n",
       "      <th></th>\n",
       "      <th>caseno</th>\n",
       "      <th>Key1</th>\n",
       "      <th>Key2</th>\n",
       "      <th>Unnamed: 3</th>\n",
       "      <th>Unnamed: 4</th>\n",
       "    </tr>\n",
       "  </thead>\n",
       "  <tbody>\n",
       "    <tr>\n",
       "      <th>0</th>\n",
       "      <td>89702625</td>\n",
       "      <td>XpJ13RyT4TGZFVnl2bVFvSWVSeDhldmVtT1F3QT09</td>\n",
       "      <td>XpJ13RyT4U0FYbTBMcXhpV2RYREgxVVkraE9kdz09</td>\n",
       "      <td>NaN</td>\n",
       "      <td>NaN</td>\n",
       "    </tr>\n",
       "    <tr>\n",
       "      <th>1</th>\n",
       "      <td>92054897</td>\n",
       "      <td>XpJ13RyT4QXJzM2JyY0NSV09SeDhldmVtT1F3QT09</td>\n",
       "      <td>XpJ13RyT4Z0tNaGFGSEJSTEhTQUZwdzFoYnRxUT09</td>\n",
       "      <td>NaN</td>\n",
       "      <td>NaN</td>\n",
       "    </tr>\n",
       "    <tr>\n",
       "      <th>2</th>\n",
       "      <td>89704174</td>\n",
       "      <td>XpJ13RyT4NERudmVETDJaK2lSeDhldmVtT1F3QT09</td>\n",
       "      <td>XpJ13RyT4bm9UT212d1V3Y0JlTDZiZDM0RVM1QT09</td>\n",
       "      <td>NaN</td>\n",
       "      <td>NaN</td>\n",
       "    </tr>\n",
       "    <tr>\n",
       "      <th>3</th>\n",
       "      <td>89704176</td>\n",
       "      <td>XpJ13RyT4QStWKzNuK2pRWFdSeDhldmVtT1F3QT09</td>\n",
       "      <td>XpJ13RyT4bm9UT212d1V3Y0RHU0VlelRoYnF1UT09</td>\n",
       "      <td>NaN</td>\n",
       "      <td>NaN</td>\n",
       "    </tr>\n",
       "    <tr>\n",
       "      <th>4</th>\n",
       "      <td>89704175</td>\n",
       "      <td>XpJ13RyT4NE9uVkdQNC8rZnlSeDhldmVtT1F3QT09</td>\n",
       "      <td>XpJ13RyT4bm9UT212d1V3Y0JYREgxVVkraE9kdz09</td>\n",
       "      <td>NaN</td>\n",
       "      <td>NaN</td>\n",
       "    </tr>\n",
       "  </tbody>\n",
       "</table>\n",
       "</div>"
      ],
      "text/plain": [
       "     caseno                                       Key1  \\\n",
       "0  89702625  XpJ13RyT4TGZFVnl2bVFvSWVSeDhldmVtT1F3QT09   \n",
       "1  92054897  XpJ13RyT4QXJzM2JyY0NSV09SeDhldmVtT1F3QT09   \n",
       "2  89704174  XpJ13RyT4NERudmVETDJaK2lSeDhldmVtT1F3QT09   \n",
       "3  89704176  XpJ13RyT4QStWKzNuK2pRWFdSeDhldmVtT1F3QT09   \n",
       "4  89704175  XpJ13RyT4NE9uVkdQNC8rZnlSeDhldmVtT1F3QT09   \n",
       "\n",
       "                                        Key2  Unnamed: 3  Unnamed: 4  \n",
       "0  XpJ13RyT4U0FYbTBMcXhpV2RYREgxVVkraE9kdz09         NaN         NaN  \n",
       "1  XpJ13RyT4Z0tNaGFGSEJSTEhTQUZwdzFoYnRxUT09         NaN         NaN  \n",
       "2  XpJ13RyT4bm9UT212d1V3Y0JlTDZiZDM0RVM1QT09         NaN         NaN  \n",
       "3  XpJ13RyT4bm9UT212d1V3Y0RHU0VlelRoYnF1UT09         NaN         NaN  \n",
       "4  XpJ13RyT4bm9UT212d1V3Y0JYREgxVVkraE9kdz09         NaN         NaN  "
      ]
     },
     "execution_count": 3,
     "metadata": {},
     "output_type": "execute_result"
    }
   ],
   "source": [
    "key_df.head()"
   ]
  },
  {
   "cell_type": "code",
   "execution_count": 14,
   "metadata": {},
   "outputs": [],
   "source": [
    "a = key_df['caseno'].tolist()\n",
    "x = [0] * 40\n",
    "for i in a:\n",
    "    x[i % 40] += 1"
   ]
  },
  {
   "cell_type": "code",
   "execution_count": 16,
   "metadata": {},
   "outputs": [
    {
     "data": {
      "text/plain": [
       "[2047,\n",
       " 2041,\n",
       " 2025,\n",
       " 1999,\n",
       " 1990,\n",
       " 2038,\n",
       " 2025,\n",
       " 2027,\n",
       " 1976,\n",
       " 2067,\n",
       " 1963,\n",
       " 2032,\n",
       " 2059,\n",
       " 2000,\n",
       " 1973,\n",
       " 2009,\n",
       " 1943,\n",
       " 2036,\n",
       " 2016,\n",
       " 1945,\n",
       " 1986,\n",
       " 1998,\n",
       " 1973,\n",
       " 2073,\n",
       " 1979,\n",
       " 2091,\n",
       " 1988,\n",
       " 2076,\n",
       " 2088,\n",
       " 1975,\n",
       " 1985,\n",
       " 1965,\n",
       " 2045,\n",
       " 2033,\n",
       " 2023,\n",
       " 1937,\n",
       " 2056,\n",
       " 2075,\n",
       " 2020,\n",
       " 2020]"
      ]
     },
     "execution_count": 16,
     "metadata": {},
     "output_type": "execute_result"
    }
   ],
   "source": [
    "x"
   ]
  },
  {
   "cell_type": "code",
   "execution_count": null,
   "metadata": {},
   "outputs": [],
   "source": []
  }
 ],
 "metadata": {
  "kernelspec": {
   "display_name": "Python 3",
   "language": "python",
   "name": "python3"
  },
  "language_info": {
   "codemirror_mode": {
    "name": "ipython",
    "version": 3
   },
   "file_extension": ".py",
   "mimetype": "text/x-python",
   "name": "python",
   "nbconvert_exporter": "python",
   "pygments_lexer": "ipython3",
   "version": "3.7.9"
  },
  "metadata": {
   "interpreter": {
    "hash": "4cd7ab41f5fca4b9b44701077e38c5ffd31fe66a6cab21e0214b68d958d0e462"
   }
  }
 },
 "nbformat": 4,
 "nbformat_minor": 2
}
