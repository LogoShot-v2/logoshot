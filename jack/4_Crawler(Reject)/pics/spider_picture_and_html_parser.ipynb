{
 "cells": [
  {
   "cell_type": "code",
   "execution_count": 1,
   "metadata": {},
   "outputs": [],
   "source": [
    "import pandas as pd\n",
    "import requests\n",
    "from bs4 import BeautifulSoup\n",
    "import threading\n",
    "import os\n",
    "import csv\n",
    "import time\n",
    "import random\n",
    "import urllib.request"
   ]
  },
  {
   "cell_type": "code",
   "execution_count": 4,
   "metadata": {},
   "outputs": [],
   "source": [
    "def get_Picture(html,filename):\n",
    "    html_text = html.read()\n",
    "    soup = BeautifulSoup(html_text, 'lxml')\n",
    "    image = soup.find_all('div')\n",
    "    #下面的迴圈是找圖片網址再把結果放到陣列裡\n",
    "    links=[]\n",
    "    for d in image:\n",
    "        if d.find('img'):        #再從div找img裡面的src  \n",
    "            result=d.find('img')['src']\n",
    "            links.append(result)\n",
    "            break\n",
    "\n",
    "    for link in links:\n",
    "        if link == \"\":\n",
    "            continue\n",
    "        #filename = filename[:-5]\n",
    "        local = os.path.join('%s.jpg'%filename)\n",
    "        full_link = os.path.join('https://twtmsearch.tipo.gov.tw/%s' % link[3:])\n",
    "        urllib.request.urlretrieve(full_link,local) #link是下載的網址 local是儲存圖片的檔案位址\n",
    "\n"
   ]
  },
  {
   "cell_type": "code",
   "execution_count": 28,
   "metadata": {},
   "outputs": [],
   "source": [
    "def get_content(html):\n",
    "    html_text = html.read()\n",
    "    soup = BeautifulSoup(html_text, 'lxml')\n",
    "    #print(soup.prettify())\n",
    "    td = soup.find_all('td')\n",
    "    \n",
    "    for x in td:\n",
    "        try:\n",
    "            if 'colTitle' in x.attrs['class']:\n",
    "                print(x.text)\n",
    "            else:\n",
    "                print(\"\\t\"+str(x.text))\n",
    "        except:\n",
    "            print(\"\")\n",
    "            print(x.text)\n",
    "            print(\"\")"
   ]
  },
  {
   "cell_type": "code",
   "execution_count": null,
   "metadata": {},
   "outputs": [],
   "source": [
    "from os import walk\n",
    "from urllib.request import urlretrieve\n",
    "\n",
    "if \"image\" not in os.listdir():\n",
    "    os.makedirs(\"image\")\n",
    "\n",
    "if __name__ == \"__main__\":\n",
    "    f = []\n",
    "    local = './output'\n",
    "    for (dirpath, dirnames, filenames) in walk(local):\n",
    "        for filename in filenames:\n",
    "            with open(os.path.join(local, filename), 'r') as f:\n",
    "                get_Picture(f,filename)"
   ]
  },
  {
   "cell_type": "code",
   "execution_count": 29,
   "metadata": {},
   "outputs": [
    {
     "name": "stdout",
     "output_type": "stream",
     "text": [
      "核駁號\n",
      "\tT0354192\n",
      "商標種類\n",
      "\t商標\n",
      "申請案號\n",
      "\t089702625\n",
      "申請日\n",
      "\t089/08/15\n",
      "核駁公告日期(卷期)\n",
      "\t103/05/16(41-010)\n",
      "行政救濟紀錄\n",
      "\t\n",
      "決定/判決日期\n",
      "\t\n",
      "決定/判決結果\n",
      "\t\n",
      "優先權日及首次申請國(地區)\n",
      "\t\n",
      "展覽會優先權日及展覽會名稱\n",
      "\t\n",
      "核駁條款\n",
      "\t300111\n",
      "據以核駁號\n",
      "\t\n",
      "\n",
      "申請人/商標/標章權人\n",
      "中文名稱\n",
      "\t鹿港玉珍齋有限公司\n",
      "中文地址\n",
      "\t彰化縣鹿港鎮民族路178號\n",
      "英文名稱\n",
      "\t\n",
      "國籍\n",
      "\t中華民國\n",
      "代理人\n",
      "中文名稱\n",
      "\t柯榮原\n",
      "中文地址\n",
      "\t臺中市西區精誠二十一街42號\n",
      "商標名稱\n",
      "\t黃家大房玉珍齋\n",
      "商標樣態／圖樣顏色\n",
      "\n",
      "\n",
      "\n",
      "\t\t\t\n",
      "\n",
      "\t\t\t\t\n",
      "\n",
      "\t\t\t\t商標/墨色\n",
      "\n",
      "\t\t\t\t\n",
      "\n",
      "\t\t\t\n",
      "\n",
      "\t\n",
      "\n",
      "\n",
      "被核駁圖形\n",
      "\t\n",
      "被核駁圖樣中文\n",
      "\t黃家大房玉珍齋\n",
      "被核駁圖樣英文\n",
      "\t\n",
      "被核駁圖樣日文\n",
      "\t\n",
      "被核駁圖樣記號\n",
      "\t\n",
      "商標圖樣描述\n",
      "\t\n",
      "說明文字內容\n",
      "\t\n",
      "類別 \n",
      "\n",
      "\t\t\t\t042\n",
      "\n",
      "\t\t\t\n",
      "商品/服務名稱\n",
      "\t速食餐飲店、小吃店、冰果店、餐廳、飯店、咖啡廳。\n",
      "類似組群\n",
      "\t300102、3002、300202、3003、3015、3202、4302、430201\n"
     ]
    }
   ],
   "source": [
    "with open('result.html', 'r',encoding=\"utf-8\") as f:\n",
    "    #get_Picture(f,'img')\n",
    "    get_content(f)"
   ]
  },
  {
   "cell_type": "code",
   "execution_count": null,
   "metadata": {},
   "outputs": [],
   "source": []
  }
 ],
 "metadata": {
  "kernelspec": {
   "display_name": "Python 3",
   "language": "python",
   "name": "python3"
  },
  "language_info": {
   "codemirror_mode": {
    "name": "ipython",
    "version": 3
   },
   "file_extension": ".py",
   "mimetype": "text/x-python",
   "name": "python",
   "nbconvert_exporter": "python",
   "pygments_lexer": "ipython3",
   "version": "3.7.9"
  },
  "metadata": {
   "interpreter": {
    "hash": "4cd7ab41f5fca4b9b44701077e38c5ffd31fe66a6cab21e0214b68d958d0e462"
   }
  }
 },
 "nbformat": 4,
 "nbformat_minor": 4
}
