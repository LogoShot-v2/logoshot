{
 "cells": [
  {
   "cell_type": "code",
   "execution_count": 8,
   "id": "perceived-floating",
   "metadata": {},
   "outputs": [],
   "source": [
    "from bs4 import BeautifulSoup\n",
    "import requests\n",
    "import os, csv\n",
    "import pandas as pd"
   ]
  },
  {
   "cell_type": "code",
   "execution_count": null,
   "id": "younger-classic",
   "metadata": {
    "scrolled": true
   },
   "outputs": [],
   "source": [
    "para = {'applNo':\"104056467\",'showType':\"2\",'caseType':\"1\"}\n",
    "html = requests.post(url = \"https://twtmsearch.tipo.gov.tw/SS0/SS0201.jsp\",data = para)\n",
    "soup = BeautifulSoup(html.text, 'html.parser')\n",
    "print(soup.prettify())\n",
    "x = html.text\n",
    "print(html.headers)\n",
    "with open (\"t.html\",\"w\",encoding=\"UTF-8\") as f:\n",
    "    f.write(x)"
   ]
  },
  {
   "cell_type": "code",
   "execution_count": null,
   "id": "valid-workstation",
   "metadata": {},
   "outputs": [],
   "source": [
    "para = {'caseNo':\"XpJ13RyT4NFE3cEJsbnV1QTZSeDhldmVtT1F3QT09\",'showType':\"2\",'caseType':\"1\",'l6':\"zh_TW\",'isReadBulletinen_US':\"\",'isReadBulletinzh_TW':\"true\"}\n",
    "#104056467\n",
    "html = requests.get(url = \"https://twtmsearch.tipo.gov.tw/SS0/friendlyPrinting\",params = para)\n",
    "print(html.url)\n",
    "soup = BeautifulSoup(html.text, 'html.parser')\n",
    "print(soup.prettify())\n",
    "x = html.text\n",
    "with open (\"m.html\",\"w\",encoding=\"UTF-8\") as f:\n",
    "    f.write(x)"
   ]
  },
  {
   "cell_type": "code",
   "execution_count": 4,
   "id": "beneficial-prefix",
   "metadata": {},
   "outputs": [],
   "source": [
    "def gethtmlbycode(casenocode):\n",
    "    url = \"https://twtmsearch.tipo.gov.tw/SS0/friendlyPrinting.jsp?showType=2&caseType=1&caseNo=%s&caseNo2=&l6=zh_TW&isReadBulletinen_US=&isReadBulletinzh_TW=true\"%casenocode\n",
    "    #print(url)\n",
    "    html = requests.get(url = url)\n",
    "    soup = BeautifulSoup(html.text, 'html.parser')\n",
    "    #print(soup.prettify())\n",
    "    x = html.text\n",
    "    with open (\"result.html\",\"w\",encoding=\"UTF-8\") as f:\n",
    "        f.write(x)\n",
    "#casenocode = \"XpJ13RyT4ZDZYM0RBdUl1MnlSeDhldmVtT1F3QT09\"\n",
    "#gethtmlbycode(casenocode)"
   ]
  },
  {
   "cell_type": "code",
   "execution_count": 6,
   "id": "serious-credits",
   "metadata": {},
   "outputs": [],
   "source": [
    "def gethtmlbycodereject(casenocode,casenocode2,filename):\n",
    "    url = \"https://twtmsearch.tipo.gov.tw/SS0/friendlyPrinting.jsp?showType=3&caseType=&caseNo=%s&caseNo2=%s&l6=zh_TW&isReadBulletinen_US=&isReadBulletinzh_TW=true\"%(casenocode,casenocode2)\n",
    "    #print(url)\n",
    "    html = requests.get(url = url)\n",
    "    soup = BeautifulSoup(html.text, 'html.parser')\n",
    "    #print(soup.prettify())\n",
    "    x = html.text\n",
    "    with open (\"rejecthtml\\\\%s.html\"%filename,\"w\",encoding=\"UTF-8\") as f:\n",
    "        f.write(x)\n",
    "#casenocode = \"XpJ13RyT4TGZFVnl2bVFvSWVSeDhldmVtT1F3QT09\"\n",
    "#casenocode2 = \"XpJ13RyT4U0FYbTBMcXhpV2RYREgxVVkraE9kdz09\"\n",
    "#gethtmlbycodereject(casenocode,casenocode2)"
   ]
  },
  {
   "cell_type": "code",
   "execution_count": 18,
   "id": "serial-denver",
   "metadata": {},
   "outputs": [],
   "source": [
    "def runhtml(sourcename,failname):\n",
    "    \n",
    "    df = pd.read_csv('%s.csv'%sourcename)  \n",
    "\n",
    "    cnt = 0\n",
    "    failcnt = 0\n",
    "    fail = []\n",
    "\n",
    "    for a in df['caseno']:\n",
    "        #print(a)\n",
    "        #print(df['Key1'][df['caseno'] == a])\n",
    "        #print(df['Key2'][df['caseno'] == a])\n",
    "\n",
    "        if cnt > 3:\n",
    "            break\n",
    "        else:\n",
    "            cnt += 1\n",
    "            x = df['Key1'][df['caseno'] == a].iloc[0]\n",
    "            y = df['Key2'][df['caseno'] == a].iloc[0]\n",
    "            try:\n",
    "                gethtmlbycodereject(x,y,a)\n",
    "                #print(x,y,a)\n",
    "            except:\n",
    "                print(a)\n",
    "                failcnt += 1\n",
    "                fail.append([a,x,y])\n",
    "\n",
    "    with open('%s.csv'%failname,'a' ,newline='') as fd:\n",
    "        writer = csv.writer(fd)\n",
    "        writer.writerow(['caseno','Key1','Key2'])\n",
    "        for k in fail:\n",
    "            writer.writerow(k)"
   ]
  },
  {
   "cell_type": "code",
   "execution_count": 19,
   "id": "seasonal-software",
   "metadata": {},
   "outputs": [
    {
     "name": "stdout",
     "output_type": "stream",
     "text": [
      "89702625\n",
      "92054897\n",
      "89704174\n",
      "89704176\n"
     ]
    }
   ],
   "source": [
    "runhtml('key','fail')"
   ]
  },
  {
   "cell_type": "code",
   "execution_count": null,
   "id": "homeless-giving",
   "metadata": {},
   "outputs": [],
   "source": []
  }
 ],
 "metadata": {
  "kernelspec": {
   "display_name": "Python 3",
   "language": "python",
   "name": "python3"
  },
  "language_info": {
   "codemirror_mode": {
    "name": "ipython",
    "version": 3
   },
   "file_extension": ".py",
   "mimetype": "text/x-python",
   "name": "python",
   "nbconvert_exporter": "python",
   "pygments_lexer": "ipython3",
   "version": "3.7.9"
  }
 },
 "nbformat": 4,
 "nbformat_minor": 5
}
