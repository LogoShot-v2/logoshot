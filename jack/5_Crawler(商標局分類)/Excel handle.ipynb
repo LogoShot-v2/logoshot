{
 "cells": [
  {
   "cell_type": "code",
   "execution_count": 4,
   "id": "pacific-conclusion",
   "metadata": {},
   "outputs": [],
   "source": [
    "import csv,os\n",
    "import pandas as pd"
   ]
  },
  {
   "cell_type": "code",
   "execution_count": 34,
   "id": "comic-lawsuit",
   "metadata": {},
   "outputs": [
    {
     "name": "stdout",
     "output_type": "stream",
     "text": [
      "C:\\Users\\User\\Downloads\n",
      "['20210521_113403.xls', '20210521_113429.xls', '20210521_113524.xls', '20210521_113604.xls', '20210521_113649.xls', '20210521_113723.xls', '20210521_113754.xls', '20210521_113834.xls', '20210521_113944.xls', '20210521_114017.xls', '20210521_114051.xls', '20210521_114149.xls', '20210521_114226.xls', '20210521_114352.xls', '20210521_114442.xls', '20210521_114641.xls', '20210521_114748.xls', '20210521_114846.xls', '20210521_115006.xls', '20210521_115038.xls', '20210521_115128.xls', '20210521_115222.xls', '20210521_115343.xls', '20210521_115527.xls', '20210521_115612.xls']\n"
     ]
    }
   ],
   "source": [
    "os.chdir(\"C:\\\\Users\\\\User\\\\Downloads\")\n",
    "path = os.getcwd()\n",
    "print(path)\n",
    "dirs = os.listdir()\n",
    "print(dirs)\n",
    "for a in dirs:\n",
    "    os.rename(path+\"\\\\\"+a,\"C:\\\\Users\\\\User\\\\OneDrive - g.ntu.edu.tw\\\\Desktop\\\\a\\\\\"+a)"
   ]
  },
  {
   "cell_type": "code",
   "execution_count": 35,
   "id": "environmental-orange",
   "metadata": {},
   "outputs": [
    {
     "name": "stdout",
     "output_type": "stream",
     "text": [
      "C:\\Users\\User\\OneDrive - g.ntu.edu.tw\\Desktop\\a\n",
      "['20210521_113403.xls', '20210521_113429.xls', '20210521_113524.xls', '20210521_113604.xls', '20210521_113649.xls', '20210521_113723.xls', '20210521_113754.xls', '20210521_113834.xls', '20210521_113944.xls', '20210521_114017.xls', '20210521_114051.xls', '20210521_114149.xls', '20210521_114226.xls', '20210521_114352.xls', '20210521_114442.xls', '20210521_114641.xls', '20210521_114748.xls', '20210521_114846.xls', '20210521_115006.xls', '20210521_115038.xls', '20210521_115128.xls', '20210521_115222.xls', '20210521_115343.xls', '20210521_115527.xls', '20210521_115612.xls']\n",
      "20210521_113403.xls\n",
      "20210521_113429.xls\n",
      "20210521_113524.xls\n",
      "20210521_113604.xls\n",
      "20210521_113649.xls\n",
      "20210521_113723.xls\n",
      "20210521_113754.xls\n",
      "20210521_113834.xls\n",
      "20210521_113944.xls\n",
      "20210521_114017.xls\n",
      "20210521_114051.xls\n",
      "20210521_114149.xls\n",
      "20210521_114226.xls\n",
      "20210521_114352.xls\n",
      "20210521_114442.xls\n",
      "20210521_114641.xls\n",
      "20210521_114748.xls\n",
      "20210521_114846.xls\n",
      "20210521_115006.xls\n",
      "20210521_115038.xls\n",
      "20210521_115128.xls\n",
      "20210521_115222.xls\n",
      "20210521_115343.xls\n",
      "20210521_115527.xls\n",
      "20210521_115612.xls\n",
      "=====\n",
      "20210521_113403.xls\n",
      "20210521_113429.xls\n",
      "20210521_113524.xls\n",
      "20210521_113604.xls\n",
      "20210521_113649.xls\n",
      "20210521_113723.xls\n",
      "20210521_113754.xls\n",
      "20210521_113834.xls\n",
      "20210521_113944.xls\n",
      "20210521_114017.xls\n",
      "20210521_114051.xls\n",
      "20210521_114149.xls\n",
      "20210521_114226.xls\n",
      "20210521_114352.xls\n",
      "20210521_114442.xls\n",
      "20210521_114641.xls\n",
      "20210521_114748.xls\n",
      "20210521_114846.xls\n",
      "20210521_115006.xls\n",
      "20210521_115038.xls\n",
      "20210521_115128.xls\n",
      "20210521_115222.xls\n",
      "20210521_115343.xls\n",
      "20210521_115527.xls\n",
      "20210521_115612.xls\n"
     ]
    }
   ],
   "source": [
    "os.chdir(\"C:\\\\Users\\\\User\\\\OneDrive - g.ntu.edu.tw\\\\Desktop\\\\a\")\n",
    "path = os.getcwd()\n",
    "print(path)\n",
    "dirs = os.listdir()\n",
    "print(dirs)\n",
    "for a in dirs:\n",
    "    print(a)\n",
    "#     xls = pd.ExcelFile(r\"%s\"%a)\n",
    "#     sheet1 = xls.parse(0)\n",
    "#     casenos = [str(x) for x in sheet1['申請案號'].to_list()]\n",
    "#     fdates = [str(x) for x in sheet1['申請日/優先權日'].to_list()]\n",
    "#     names = [str(x) for x in sheet1['商標名稱'].to_list()]\n",
    "    \n",
    "#     print(casenos[0])\n",
    "#     print(len(casenos))\n",
    "#     print(fdates[0])\n",
    "#     print(len(fdates))\n",
    "#     print(names[0])\n",
    "#     print(len(names))\n",
    "print(\"=====\")\n",
    "\n",
    "with open('C:\\\\Users\\\\User\\\\OneDrive - g.ntu.edu.tw\\\\Desktop\\\\01-A.csv','a+' ,newline='',encoding=\"utf-8\") as fd:\n",
    "    writer = csv.writer(fd)\n",
    "    writer.writerow(['caseno','filing date','name'])\n",
    "    for a in dirs:\n",
    "        print(a)\n",
    "        xls = pd.ExcelFile(r\"%s\"%a)\n",
    "        sheet1 = xls.parse(0)\n",
    "        casenos = [str(x) for x in sheet1['申請案號'].to_list()]\n",
    "        fdates = [str(x) for x in sheet1['申請日/優先權日'].to_list()]\n",
    "        names = [str(x) for x in sheet1['商標名稱'].to_list()]\n",
    "        xls.close()\n",
    "        \n",
    "        for i in range(len(casenos)):\n",
    "            if casenos[i] == 'nan':\n",
    "                break\n",
    "            else:\n",
    "                writer.writerow([casenos[i],fdates[i],names[i]])"
   ]
  },
  {
   "cell_type": "code",
   "execution_count": 33,
   "id": "fallen-folder",
   "metadata": {},
   "outputs": [],
   "source": []
  },
  {
   "cell_type": "code",
   "execution_count": null,
   "id": "emerging-miller",
   "metadata": {},
   "outputs": [],
   "source": []
  }
 ],
 "metadata": {
  "kernelspec": {
   "display_name": "Python 3",
   "language": "python",
   "name": "python3"
  },
  "language_info": {
   "codemirror_mode": {
    "name": "ipython",
    "version": 3
   },
   "file_extension": ".py",
   "mimetype": "text/x-python",
   "name": "python",
   "nbconvert_exporter": "python",
   "pygments_lexer": "ipython3",
   "version": "3.7.9"
  }
 },
 "nbformat": 4,
 "nbformat_minor": 5
}
