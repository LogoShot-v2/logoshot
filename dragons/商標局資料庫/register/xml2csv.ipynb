{
 "cells": [
  {
   "cell_type": "code",
   "execution_count": 1,
   "metadata": {},
   "outputs": [],
   "source": [
    "import xml.etree.ElementTree as ET\n",
    "import pandas as pd\n",
    "import sys\n",
    "import os"
   ]
  },
  {
   "cell_type": "markdown",
   "metadata": {},
   "source": [
    "## Merge all the RegContent.xml"
   ]
  },
  {
   "cell_type": "code",
   "execution_count": 5,
   "metadata": {},
   "outputs": [
    {
     "name": "stdout",
     "output_type": "stream",
     "text": [
      "The progress is 10 / 229\n",
      "The progress is 20 / 229\n",
      "The progress is 30 / 229\n",
      "The progress is 40 / 229\n",
      "The progress is 50 / 229\n",
      "The progress is 60 / 229\n",
      "The progress is 70 / 229\n",
      "The progress is 80 / 229\n",
      "The progress is 90 / 229\n",
      "The progress is 100 / 229\n",
      "The progress is 110 / 229\n",
      "The progress is 120 / 229\n",
      "The progress is 130 / 229\n",
      "The progress is 140 / 229\n",
      "The progress is 150 / 229\n",
      "The progress is 160 / 229\n",
      "The progress is 170 / 229\n",
      "The progress is 180 / 229\n",
      "The progress is 190 / 229\n",
      "The progress is 200 / 229\n",
      "The progress is 210 / 229\n",
      "The progress is 220 / 229\n"
     ]
    }
   ],
   "source": [
    "all_df = []\n",
    "all_subdf = {'RegContentAgent':[], 'RegContentClassification':[], 'RegContentOwner':[], 'RegContentPicture':[]}\n",
    "dossiers = os.listdir(\"./raw\")\n",
    "dossiers.sort()\n",
    "for dossier in dossiers: \n",
    "    if(dossier == \".DS_Store\"): \n",
    "        continue    \n",
    "    path = os.path.join(\"raw\", dossier)\n",
    "    path = os.path.join(path, \"RegContent.xml\")\n",
    "    tree = ET.parse(path)\n",
    "    root = tree.getroot()\n",
    "    all_case = []\n",
    "    all_subcase = {'RegContentAgent':[], 'RegContentClassification':[], 'RegContentOwner':[], 'RegContentPicture':[]}\n",
    "    for case in root:\n",
    "        case_dict = {\"doc\":dossier} \n",
    "        for tag in case:\n",
    "            if(tag.tag in all_subcase.keys()):\n",
    "                subcase_dict = {\"CaseNo\": case_dict[\"CaseNo\"]}\n",
    "                for sub_tag in tag:\n",
    "                    subcase_dict[sub_tag.tag] = sub_tag.text\n",
    "                all_subcase[tag.tag].append(subcase_dict)\n",
    "            else:\n",
    "                case_dict[tag.tag] = tag.text\n",
    "        all_case.append(case_dict)\n",
    "    # case\n",
    "    df = pd.DataFrame(all_case)\n",
    "    all_df.append(df)\n",
    "    # subcase\n",
    "    for key in all_subdf.keys():\n",
    "        df = pd.DataFrame(all_subcase[key])\n",
    "        all_subdf[key].append(df)\n",
    "    \n",
    "    if(len(all_df) % 10 == 0):\n",
    "        print(\"The progress is {} / {}\".format(len(all_df), len(dossiers)-1)) # 減去.DS_Store檔"
   ]
  },
  {
   "cell_type": "code",
   "execution_count": 3,
   "metadata": {},
   "outputs": [],
   "source": [
    "def make_csv(df_list, name):\n",
    "    count = dict()\n",
    "    for df in df_list:\n",
    "        if(df.shape[1] not in count.keys()):\n",
    "            count[df.shape[1]] = 1\n",
    "        else:\n",
    "            count[df.shape[1]] += 1\n",
    "    print(\"-------\"+name+\"-------\")\n",
    "    for key, value in count.items():\n",
    "        print(\"# of columns : {} => {} dossiers\".format(key, value))\n",
    "    old_df = []\n",
    "    new_df = []\n",
    "    for df in df_list:\n",
    "        if(df.shape[1] == max(count.keys())):\n",
    "            old_df.append(df)\n",
    "        else:\n",
    "            new_df.append(df)\n",
    "    complete_old_df = pd.concat(old_df)\n",
    "    complete_new_df = pd.concat(new_df)\n",
    "#     if(name == \"trademark\"):\n",
    "#         complete_new_df['Wavpath'] = complete_new_df['Wavpath'].fillna(\"unknown\")\n",
    "    complete_old_df.to_csv(name+\"_old\"+\".csv\", index=False)  \n",
    "    complete_new_df.to_csv(name+\"_new\"+\".csv\", index=False)  "
   ]
  },
  {
   "cell_type": "code",
   "execution_count": 4,
   "metadata": {},
   "outputs": [
    {
     "name": "stdout",
     "output_type": "stream",
     "text": [
      "-------trademark-------\n",
      "# of columns : 22 => 20 dossiers\n",
      "# of columns : 15 => 209 dossiers\n",
      "-------RegContentAgent-------\n",
      "# of columns : 3 => 20 dossiers\n",
      "# of columns : 2 => 209 dossiers\n",
      "-------RegContentClassification-------\n",
      "# of columns : 5 => 20 dossiers\n",
      "# of columns : 4 => 209 dossiers\n",
      "-------RegContentOwner-------\n",
      "# of columns : 5 => 20 dossiers\n",
      "# of columns : 4 => 209 dossiers\n",
      "-------RegContentPicture-------\n",
      "# of columns : 5 => 20 dossiers\n",
      "# of columns : 4 => 209 dossiers\n"
     ]
    }
   ],
   "source": [
    "make_csv(all_df, \"trademark\")\n",
    "for key, value in all_subdf.items():\n",
    "    make_csv(value, key)"
   ]
  },
  {
   "cell_type": "code",
   "execution_count": null,
   "metadata": {},
   "outputs": [],
   "source": []
  }
 ],
 "metadata": {
  "kernelspec": {
   "display_name": "Python 3",
   "language": "python",
   "name": "python3"
  },
  "language_info": {
   "codemirror_mode": {
    "name": "ipython",
    "version": 3
   },
   "file_extension": ".py",
   "mimetype": "text/x-python",
   "name": "python",
   "nbconvert_exporter": "python",
   "pygments_lexer": "ipython3",
   "version": "3.8.5"
  }
 },
 "nbformat": 4,
 "nbformat_minor": 4
}
